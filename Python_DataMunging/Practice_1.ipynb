{
 "cells": [
  {
   "cell_type": "markdown",
   "metadata": {
    "slideshow": {
     "slide_type": "slide"
    }
   },
   "source": [
    "## 2. Introduction to Python"
   ]
  },
  {
   "cell_type": "markdown",
   "metadata": {
    "slideshow": {
     "slide_type": "subslide"
    }
   },
   "source": [
    "## <font color = 'green'> Basic Variable Types </font>\n",
    "\n",
    "* Python is case sensitive and there is no need to do any complicated initialization of variables\n",
    "* Python variables are dynamically typed. This means that you can define variables when they are used\n",
    "* Python has several variable types, a few of which are **string, integer, float, boolean**"
   ]
  },
  {
   "cell_type": "code",
   "execution_count": 3,
   "metadata": {
    "slideshow": {
     "slide_type": "subslide"
    }
   },
   "outputs": [],
   "source": [
    "#first import the necessary libraries\n",
    "import pandas as pd\n",
    "import numpy as np\n",
    "import scipy as sp\n",
    "from functools import reduce"
   ]
  },
  {
   "cell_type": "code",
   "execution_count": 13,
   "metadata": {
    "slideshow": {
     "slide_type": "subslide"
    }
   },
   "outputs": [
    {
     "data": {
      "text/plain": [
       "10"
      ]
     },
     "execution_count": 13,
     "metadata": {},
     "output_type": "execute_result"
    },
    {
     "data": {
      "text/plain": [
       "10"
      ]
     },
     "execution_count": 13,
     "metadata": {},
     "output_type": "execute_result"
    }
   ],
   "source": [
    "#create a variable and assign value\n",
    "x = 10\n",
    "x_name = 10\n",
    "xName = 10\n",
    "x\n",
    "x_name"
   ]
  },
  {
   "cell_type": "code",
   "execution_count": 17,
   "metadata": {},
   "outputs": [
    {
     "data": {
      "text/plain": [
       "int"
      ]
     },
     "execution_count": 17,
     "metadata": {},
     "output_type": "execute_result"
    },
    {
     "data": {
      "text/plain": [
       "10"
      ]
     },
     "execution_count": 17,
     "metadata": {},
     "output_type": "execute_result"
    },
    {
     "data": {
      "text/plain": [
       "'Ani'"
      ]
     },
     "execution_count": 17,
     "metadata": {},
     "output_type": "execute_result"
    },
    {
     "data": {
      "text/plain": [
       "'Aghababyan'"
      ]
     },
     "execution_count": 17,
     "metadata": {},
     "output_type": "execute_result"
    }
   ],
   "source": [
    "#check the variable's type\n",
    "type(X) \n",
    "type(x)\n",
    "\n",
    "#convert variable to integer\n",
    "int(x) \n",
    "\n",
    "# multiple assignment\n",
    "first_name, last_name = \"Roshni\", \"Vadiraja\"\n",
    "first_name\n",
    "last_name"
   ]
  },
  {
   "cell_type": "code",
   "execution_count": 20,
   "metadata": {
    "slideshow": {
     "slide_type": "subslide"
    }
   },
   "outputs": [],
   "source": [
    "#string\n",
    "first_name = \"Rosh\"\n",
    "\n",
    "#integer\n",
    "languages = 4\n",
    "\n",
    "#float\n",
    "height = 167.0\n",
    "\n",
    "#boolean\n",
    "isInternational = True"
   ]
  },
  {
   "cell_type": "markdown",
   "metadata": {
    "slideshow": {
     "slide_type": "slide"
    }
   },
   "source": [
    "### <font color = 'Purple'> Practice Questions</font>\n",
    "A) create a variable height and assign your height to it\n",
    "\n",
    "B) create a variable firstN and lastN and assigned your first and lastname to it via multiple assignment\n"
   ]
  },
  {
   "cell_type": "code",
   "execution_count": 1,
   "metadata": {
    "slideshow": {
     "slide_type": "fragment"
    }
   },
   "outputs": [],
   "source": [
    "height = 5\n",
    "firstN = 'Roshni'\n",
    "lastN = 'Vadiraja'\n"
   ]
  },
  {
   "cell_type": "markdown",
   "metadata": {
    "slideshow": {
     "slide_type": "slide"
    }
   },
   "source": [
    "## <font color = 'green'> Collection data types </font>\n",
    "1. **lists**: is a collection which is ordered and changeable. Allows duplicate members.\n",
    "    * Lists are container variables.\n",
    "    * You can store any basic variable data type in a list (different or the same)\n",
    "    * Lists are mutable\n",
    "    * Each item can be accessed using a list index\n",
    "    * Index starts from 0 instead of 1\n",
    "    * Length of a list can be obtained using \n",
    "    ```python\n",
    "    len( ) function\n",
    "    ```\n",
    "    \n",
    "2. **tuple**: is a collection which is ordered and unchangeable. Allows duplicate members.\n",
    "    * Similar to lists except use ( ) instead of [ ] and tuples are immutable\n",
    "3. **dictionary**: is a collection which is unordered, changeable and indexed. No duplicate members.\n",
    "    * Dictionaries are composed of key value pairs. \n",
    "    * The data is indexed by key instead of indexes, hence values can be accessed using the associated keys."
   ]
  },
  {
   "cell_type": "markdown",
   "metadata": {
    "slideshow": {
     "slide_type": "slide"
    }
   },
   "source": [
    "### List\n",
    "define and manipulate"
   ]
  },
  {
   "cell_type": "code",
   "execution_count": 8,
   "metadata": {
    "scrolled": false,
    "slideshow": {
     "slide_type": "subslide"
    }
   },
   "outputs": [],
   "source": [
    "#define a list\n",
    "list_init = list()\n",
    "list_init"
   ]
  },
  {
   "cell_type": "code",
   "execution_count": 9,
   "metadata": {},
   "outputs": [],
   "source": [
    "#define an empty list\n",
    "empty_numbers = []\n",
    "empty_numbers"
   ]
  },
  {
   "cell_type": "code",
   "execution_count": 18,
   "metadata": {},
   "outputs": [
    {
     "data": {
      "text/plain": [
       "[11, 8, 3, 14, 51, 78]"
      ]
     },
     "execution_count": 18,
     "metadata": {},
     "output_type": "execute_result"
    }
   ],
   "source": [
    "#define a list of elements: number\n",
    "list_of_numbers = [11, 8, 3, 14, 51, 78]\n",
    "list_of_numbers"
   ]
  },
  {
   "cell_type": "code",
   "execution_count": 19,
   "metadata": {},
   "outputs": [
    {
     "name": "stdout",
     "output_type": "stream",
     "text": [
      "[11, 8, 3, 14, 51, 78]\n"
     ]
    }
   ],
   "source": [
    "#print the entire list\n",
    "print(list_of_numbers)"
   ]
  },
  {
   "cell_type": "code",
   "execution_count": 20,
   "metadata": {},
   "outputs": [
    {
     "name": "stdout",
     "output_type": "stream",
     "text": [
      "8\n"
     ]
    }
   ],
   "source": [
    "#print an element from a list\n",
    "print(list_of_numbers[1])"
   ]
  },
  {
   "cell_type": "code",
   "execution_count": 21,
   "metadata": {},
   "outputs": [
    {
     "data": {
      "text/plain": [
       "[0, 100.0, 'score']"
      ]
     },
     "execution_count": 21,
     "metadata": {},
     "output_type": "execute_result"
    }
   ],
   "source": [
    "#define a list with mixed type variables\n",
    "list_mxd = [0, 100.0, \"score\"]\n",
    "list_mxd"
   ]
  },
  {
   "cell_type": "code",
   "execution_count": 22,
   "metadata": {},
   "outputs": [
    {
     "data": {
      "text/plain": [
       "[[1, 2], ['Ani', 4], ['bear', 4]]"
      ]
     },
     "execution_count": 22,
     "metadata": {},
     "output_type": "execute_result"
    }
   ],
   "source": [
    "#define a list of lists\n",
    "list_of_lists = [[1, 2], ['Ani', 4], ['bear', 4]]\n",
    "list_of_lists"
   ]
  },
  {
   "cell_type": "code",
   "execution_count": 23,
   "metadata": {},
   "outputs": [
    {
     "name": "stdout",
     "output_type": "stream",
     "text": [
      "3\n"
     ]
    }
   ],
   "source": [
    "#find the length of the list\n",
    "print(len(list_of_lists))"
   ]
  },
  {
   "cell_type": "code",
   "execution_count": 28,
   "metadata": {
    "slideshow": {
     "slide_type": "subslide"
    }
   },
   "outputs": [],
   "source": [
    "#slice and dice lists using these two lists\n",
    "list_of_numbers = [11, 8, 3, 14, 51, 78]\n",
    "list_of_lists = [[1, 2], ['Ani', 4], ['bear', 5]]"
   ]
  },
  {
   "cell_type": "code",
   "execution_count": 24,
   "metadata": {},
   "outputs": [
    {
     "name": "stdout",
     "output_type": "stream",
     "text": [
      "[1, 2]\n"
     ]
    }
   ],
   "source": [
    "#print the first element of the list\n",
    "print(list_of_lists[0])"
   ]
  },
  {
   "cell_type": "code",
   "execution_count": 26,
   "metadata": {},
   "outputs": [
    {
     "name": "stdout",
     "output_type": "stream",
     "text": [
      "['bear', 4]\n"
     ]
    }
   ],
   "source": [
    "#print the last element of the list\n",
    "print(list_of_lists[-1])"
   ]
  },
  {
   "cell_type": "code",
   "execution_count": 29,
   "metadata": {},
   "outputs": [
    {
     "name": "stdout",
     "output_type": "stream",
     "text": [
      "5\n"
     ]
    }
   ],
   "source": [
    "#print the first element of a list element within a list\n",
    "print(list_of_lists[2][1])"
   ]
  },
  {
   "cell_type": "code",
   "execution_count": 34,
   "metadata": {},
   "outputs": [
    {
     "name": "stdout",
     "output_type": "stream",
     "text": [
      "[11, 8, 3]\n",
      "[11, 8]\n"
     ]
    }
   ],
   "source": [
    "#print the list elements from index 0 to index 1 included\n",
    "print(list_of_numbers[0:3])\n",
    "#or the same as\n",
    "print(list_of_numbers[:2])"
   ]
  },
  {
   "cell_type": "code",
   "execution_count": 32,
   "metadata": {},
   "outputs": [
    {
     "data": {
      "text/plain": [
       "[3, 14, 51, 78]"
      ]
     },
     "execution_count": 32,
     "metadata": {},
     "output_type": "execute_result"
    }
   ],
   "source": [
    "#print the list elements starting from index 0 until end\n",
    "list_of_numbers[2:]"
   ]
  },
  {
   "cell_type": "code",
   "execution_count": 35,
   "metadata": {},
   "outputs": [
    {
     "name": "stdout",
     "output_type": "stream",
     "text": [
      "[11, 3, 51]\n",
      "[11, 3, 51]\n"
     ]
    }
   ],
   "source": [
    "#print all elements of the list from start to end printing every second element only\n",
    "print(list_of_numbers[::2])\n",
    "#or the same as\n",
    "print(list_of_numbers[0::2])"
   ]
  },
  {
   "cell_type": "code",
   "execution_count": 36,
   "metadata": {},
   "outputs": [
    {
     "name": "stdout",
     "output_type": "stream",
     "text": [
      "[['bear', 5]]\n"
     ]
    }
   ],
   "source": [
    "#print all elements of the list from start to end in reverse orver printing every third element only\n",
    "print(list_of_lists[::-3])"
   ]
  },
  {
   "cell_type": "code",
   "execution_count": 37,
   "metadata": {},
   "outputs": [
    {
     "data": {
      "text/plain": [
       "[8, 14]"
      ]
     },
     "execution_count": 37,
     "metadata": {},
     "output_type": "execute_result"
    }
   ],
   "source": [
    "#what does this do?\n",
    "list_of_numbers[1:5:2]"
   ]
  },
  {
   "cell_type": "markdown",
   "metadata": {
    "slideshow": {
     "slide_type": "slide"
    }
   },
   "source": [
    "### <font color = 'Purple'> Practice Questions</font>\n",
    "\n",
    "A) define a list with 7 elements that are a mix of numbers and strings\n",
    "\n",
    "B) print the list\n",
    "\n",
    "C) look up the length of the list"
   ]
  },
  {
   "cell_type": "code",
   "execution_count": 4,
   "metadata": {
    "slideshow": {
     "slide_type": "fragment"
    }
   },
   "outputs": [
    {
     "name": "stdout",
     "output_type": "stream",
     "text": [
      "['rosh', 3, 6.5, 'a', 1, 4, 'vad']\n",
      "Length of the list is: 7\n"
     ]
    }
   ],
   "source": [
    "lst = ['rosh',3,6.5,'a',1,4, 'vad']\n",
    "print(lst)\n",
    "print('Length of the list is:', len(lst))\n"
   ]
  },
  {
   "cell_type": "markdown",
   "metadata": {
    "slideshow": {
     "slide_type": "slide"
    }
   },
   "source": [
    "### <font color = 'Purple'> Practice Questions</font>\n",
    "A) define a list `main_list` that's composed of 8 elements, where the first element is a list of 2 elements on its own \n",
    "\n",
    "B) print the first element of the first element inside the main_list \n",
    "\n",
    "C) print the `main_list` from index 0 till the pre-prelast element (aka, do not include the last two elemenets)\n",
    "\n",
    "D) print the second element of the first element inside the `main_list`\n",
    "\n",
    "E) print the entire `main_list` but reversed"
   ]
  },
  {
   "cell_type": "code",
   "execution_count": 13,
   "metadata": {
    "slideshow": {
     "slide_type": "fragment"
    }
   },
   "outputs": [
    {
     "name": "stdout",
     "output_type": "stream",
     "text": [
      "1\n",
      "[[1, 2], 3, 4, 5, 6, 7]\n",
      "2\n",
      "[9, 8, 7, 6, 5, 4, 3, [1, 2]]\n"
     ]
    }
   ],
   "source": [
    "main_list = [[1,2],3,4,5,6,7,8,9]\n",
    "print(main_list[0][0])\n",
    "print(main_list[0: -2])\n",
    "print(main_list[0][1])\n",
    "main_list.reverse()\n",
    "print(main_list)\n"
   ]
  },
  {
   "cell_type": "markdown",
   "metadata": {
    "slideshow": {
     "slide_type": "slide"
    }
   },
   "source": [
    "### Tuple"
   ]
  },
  {
   "cell_type": "code",
   "execution_count": 11,
   "metadata": {
    "slideshow": {
     "slide_type": "subslide"
    }
   },
   "outputs": [],
   "source": [
    "#define a tuple with three string elements\n",
    "my_cities = ('miami', 'boston', 'oregon')\n",
    "my_cities"
   ]
  },
  {
   "cell_type": "code",
   "execution_count": null,
   "metadata": {},
   "outputs": [],
   "source": [
    "#see the type of the variable\n",
    "print(type(my_cities))"
   ]
  },
  {
   "cell_type": "code",
   "execution_count": null,
   "metadata": {},
   "outputs": [],
   "source": [
    "#print the second element\n",
    "print(my_cities[1])"
   ]
  },
  {
   "cell_type": "markdown",
   "metadata": {
    "slideshow": {
     "slide_type": "slide"
    }
   },
   "source": [
    "### Dictionary"
   ]
  },
  {
   "cell_type": "code",
   "execution_count": 38,
   "metadata": {
    "slideshow": {
     "slide_type": "subslide"
    }
   },
   "outputs": [
    {
     "data": {
      "text/plain": [
       "{}"
      ]
     },
     "execution_count": 38,
     "metadata": {},
     "output_type": "execute_result"
    }
   ],
   "source": [
    "#define an empty dict\n",
    "cars = {}\n",
    "cars"
   ]
  },
  {
   "cell_type": "code",
   "execution_count": 39,
   "metadata": {},
   "outputs": [
    {
     "data": {
      "text/plain": [
       "{'Ford': 'Mustang', 'Jeep': 'Wrangler'}"
      ]
     },
     "execution_count": 39,
     "metadata": {},
     "output_type": "execute_result"
    }
   ],
   "source": [
    "#populate an empty dict\n",
    "cars['Ford'] = 'Mustang'\n",
    "cars['Jeep'] = 'Wrangler'\n",
    "cars"
   ]
  },
  {
   "cell_type": "code",
   "execution_count": 45,
   "metadata": {},
   "outputs": [
    {
     "data": {
      "text/plain": [
       "dict"
      ]
     },
     "execution_count": 45,
     "metadata": {},
     "output_type": "execute_result"
    }
   ],
   "source": [
    "#make sure it is a dictionary\n",
    "type(cars)"
   ]
  },
  {
   "cell_type": "code",
   "execution_count": 40,
   "metadata": {},
   "outputs": [
    {
     "name": "stdout",
     "output_type": "stream",
     "text": [
      "{'Ford': 'Mustang', 'Jeep': 'Wrangler'}\n"
     ]
    },
    {
     "data": {
      "text/plain": [
       "dict_items([('Ford', 'Mustang'), ('Jeep', 'Wrangler')])"
      ]
     },
     "execution_count": 40,
     "metadata": {},
     "output_type": "execute_result"
    }
   ],
   "source": [
    "#print entire dict\n",
    "print(cars)\n",
    "cars.items()"
   ]
  },
  {
   "cell_type": "code",
   "execution_count": 42,
   "metadata": {},
   "outputs": [
    {
     "data": {
      "text/plain": [
       "dict_values(['Mustang', 'Wrangler'])"
      ]
     },
     "execution_count": 42,
     "metadata": {},
     "output_type": "execute_result"
    },
    {
     "data": {
      "text/plain": [
       "dict_keys(['Ford', 'Jeep'])"
      ]
     },
     "execution_count": 42,
     "metadata": {},
     "output_type": "execute_result"
    },
    {
     "data": {
      "text/plain": [
       "'Wrangler'"
      ]
     },
     "execution_count": 42,
     "metadata": {},
     "output_type": "execute_result"
    },
    {
     "data": {
      "text/plain": [
       "'Wrangler'"
      ]
     },
     "execution_count": 42,
     "metadata": {},
     "output_type": "execute_result"
    }
   ],
   "source": [
    "#print dict values: all and individual\n",
    "cars.values()\n",
    "cars['Jeep']\n",
    "cars.get('Jeep')"
   ]
  },
  {
   "cell_type": "code",
   "execution_count": 44,
   "metadata": {},
   "outputs": [
    {
     "data": {
      "text/plain": [
       "dict_keys(['Ford', 'Jeep'])"
      ]
     },
     "execution_count": 44,
     "metadata": {},
     "output_type": "execute_result"
    },
    {
     "data": {
      "text/plain": [
       "'Mustang'"
      ]
     },
     "execution_count": 44,
     "metadata": {},
     "output_type": "execute_result"
    },
    {
     "data": {
      "text/plain": [
       "'Mustang'"
      ]
     },
     "execution_count": 44,
     "metadata": {},
     "output_type": "execute_result"
    }
   ],
   "source": [
    "#print dict keys: all and individual\n",
    "cars.keys()\n",
    "cars['Ford']\n",
    "cars.get('Ford')"
   ]
  },
  {
   "cell_type": "code",
   "execution_count": null,
   "metadata": {},
   "outputs": [],
   "source": [
    "#see the number of elements (key/value pairs) there are in dict\n",
    "print(len(cars))"
   ]
  },
  {
   "cell_type": "code",
   "execution_count": 48,
   "metadata": {},
   "outputs": [
    {
     "data": {
      "text/plain": [
       "dict_items([('Ford', 'Mustang'), ('Jeep', 'Wrangler')])"
      ]
     },
     "execution_count": 48,
     "metadata": {},
     "output_type": "execute_result"
    }
   ],
   "source": [
    "cars.items()"
   ]
  },
  {
   "cell_type": "code",
   "execution_count": 46,
   "metadata": {},
   "outputs": [
    {
     "name": "stdout",
     "output_type": "stream",
     "text": [
      "('Ford', 'Mustang')\n",
      "('Jeep', 'Wrangler')\n"
     ]
    }
   ],
   "source": [
    "#iterate through dictionaries (using item with dictionary.item)\n",
    "for item in cars.items():\n",
    "    print(item)"
   ]
  },
  {
   "cell_type": "code",
   "execution_count": 49,
   "metadata": {},
   "outputs": [
    {
     "name": "stdout",
     "output_type": "stream",
     "text": [
      "Mustang\n",
      "Wrangler\n"
     ]
    }
   ],
   "source": [
    "#iterate through dictionaries (using i with dictionary)\n",
    "for i in cars:\n",
    "    print(cars[i])"
   ]
  },
  {
   "cell_type": "code",
   "execution_count": 50,
   "metadata": {},
   "outputs": [
    {
     "data": {
      "text/plain": [
       "{'Ford': 'Mustang', 'Jeep': 'Wrangler'}"
      ]
     },
     "execution_count": 50,
     "metadata": {},
     "output_type": "execute_result"
    }
   ],
   "source": [
    "cars"
   ]
  },
  {
   "cell_type": "code",
   "execution_count": 51,
   "metadata": {},
   "outputs": [
    {
     "name": "stdout",
     "output_type": "stream",
     "text": [
      "Ford Mustang\n",
      "Jeep Wrangler\n"
     ]
    }
   ],
   "source": [
    "#iterate through dictionaries (using key and value with dictionary.item)\n",
    "for key,value in cars.items():\n",
    "    print(key, value)"
   ]
  },
  {
   "cell_type": "code",
   "execution_count": 55,
   "metadata": {},
   "outputs": [
    {
     "name": "stdout",
     "output_type": "stream",
     "text": [
      "key={}, value={}\n",
      "key={}, value={}\n"
     ]
    }
   ],
   "source": [
    "#iterate through dictionaries (using key and value with dictionary.item but alternate formatting of results)\n",
    "for key,value in cars.items():\n",
    "    print(\"key={}, value={}\".format(key, value))"
   ]
  },
  {
   "cell_type": "markdown",
   "metadata": {
    "slideshow": {
     "slide_type": "slide"
    }
   },
   "source": [
    "### <font color = 'Purple'> Practice Questions</font>\n",
    "\n",
    "A) print the entire dict\n",
    "\n",
    "\n",
    "B) get the `capital` (the value) for `Massachusetts` (the key)\n",
    "\n",
    "C) add another entry to the dictionary (any state and capital)\n",
    "\n",
    "D) iterate through a dictionary and print all `values` only"
   ]
  },
  {
   "cell_type": "code",
   "execution_count": 21,
   "metadata": {
    "slideshow": {
     "slide_type": "fragment"
    }
   },
   "outputs": [
    {
     "name": "stdout",
     "output_type": "stream",
     "text": [
      "{'MA': 'Boston', 'ME': 'Portland', 'UT': 'Salt Lake City'}\n",
      "Boston\n",
      "Boston\n",
      "Portland\n",
      "Salt Lake City\n",
      "Sacramento\n"
     ]
    }
   ],
   "source": [
    "dict_of_states_capitals = {\n",
    "    'MA':'Boston', 'ME': 'Portland', 'UT': 'Salt Lake City'\n",
    "}\n",
    "print(dict_of_states_capitals)\n",
    "print(dict_of_states_capitals['MA'])\n",
    "dict_of_states_capitals['CA'] = 'Sacramento'\n",
    "for key, value in dict_of_states_capitals.items():\n",
    "    print(value)"
   ]
  },
  {
   "cell_type": "markdown",
   "metadata": {
    "slideshow": {
     "slide_type": "slide"
    }
   },
   "source": [
    "## <font color = 'green'> Operators </font>\n",
    "\n",
    "Operators are symbols that perform certain operations on variables or values within variables. Following are some of Python's operators:\n",
    "\n",
    "**Arithmetic operators** do basic mathematical operations:\n",
    "* ***** (multiplication)\n",
    "* **+** (addition)\n",
    "* **-** (subtraction) \n",
    "* **/** (division)\n",
    "* **%** (modules)\n",
    "* ****** (exponentation)\n",
    "\n",
    "**Relational operators** carry out comparison operations.\n",
    "* **<** (less than)\n",
    "* **>** (greater than)\n",
    "* **<=** (less than or equal)\n",
    "* **>=** (greater than or equal)\n",
    "* **==** (equal to) \n",
    "* **!=** (not equal) (python2 allowed <> but python3 no longer does)\n",
    "\n",
    "**Assignment** Operator\n",
    "* **=** (assign)\n",
    "* **+=** add and assign \n",
    "* (so on)\n",
    "\n",
    "**Logical operators**\n",
    "* **AND**\n",
    "* **OR**\n",
    "* **NOT**\n",
    "\n",
    "List operators\n",
    "    * +"
   ]
  },
  {
   "cell_type": "code",
   "execution_count": 62,
   "metadata": {
    "slideshow": {
     "slide_type": "subslide"
    }
   },
   "outputs": [
    {
     "name": "stdout",
     "output_type": "stream",
     "text": [
      "6.0\n"
     ]
    }
   ],
   "source": [
    "#aritchmetic operators\n",
    "#does some math calculations\n",
    "f = 4\n",
    "t = 2\n",
    "print(f + t * t - f / t)"
   ]
  },
  {
   "cell_type": "code",
   "execution_count": 58,
   "metadata": {},
   "outputs": [
    {
     "data": {
      "text/plain": [
       "False"
      ]
     },
     "execution_count": 58,
     "metadata": {},
     "output_type": "execute_result"
    }
   ],
   "source": [
    "#relational operators\n",
    "#assigns Ani to f_name variable\n",
    "f_name = 'Ani'\n",
    "#checks if f_name is of particular value\n",
    "f_name == 'David'"
   ]
  },
  {
   "cell_type": "code",
   "execution_count": 59,
   "metadata": {},
   "outputs": [
    {
     "name": "stdout",
     "output_type": "stream",
     "text": [
      "5\n"
     ]
    }
   ],
   "source": [
    "#assignment\n",
    "#adds the values on either side and assigns it to the expression on the left.\n",
    "a = 1\n",
    "a+=4\n",
    "print(a)"
   ]
  },
  {
   "cell_type": "code",
   "execution_count": 64,
   "metadata": {},
   "outputs": [
    {
     "name": "stdout",
     "output_type": "stream",
     "text": [
      "condition met\n"
     ]
    }
   ],
   "source": [
    "#logical operators\n",
    "if f > t and f/t == 3:\n",
    "    print('condition met')\n",
    "else:\n",
    "    print('condition not met')\n",
    "\n",
    "a = 7==7 or -2>-1\n",
    "print(a)"
   ]
  },
  {
   "cell_type": "code",
   "execution_count": 65,
   "metadata": {},
   "outputs": [
    {
     "name": "stdout",
     "output_type": "stream",
     "text": [
      "[1, 4, 7, 7, 8]\n"
     ]
    }
   ],
   "source": [
    "#list operators\n",
    "a = [1, 4, 7]\n",
    "b = [7, 8]\n",
    "\n",
    "c = a + b\n",
    "print(c)"
   ]
  },
  {
   "cell_type": "markdown",
   "metadata": {
    "slideshow": {
     "slide_type": "slide"
    }
   },
   "source": [
    "### <font color = 'Purple'> Practice Questions</font>\n",
    "A) write one piece of functional code to demonstrate at least one of each operators above"
   ]
  },
  {
   "cell_type": "code",
   "execution_count": 25,
   "metadata": {
    "slideshow": {
     "slide_type": "fragment"
    }
   },
   "outputs": [
    {
     "name": "stdout",
     "output_type": "stream",
     "text": [
      "Sum: 5\n",
      "b is greater\n",
      "Bosth are not even\n"
     ]
    }
   ],
   "source": [
    "a=2\n",
    "b=3\n",
    "print('Sum:', a+b)\n",
    "if a>b:\n",
    "    print('a is greater')\n",
    "else:\n",
    "    print('b is greater')\n",
    "if a%2==0 and b%2==0:\n",
    "    print('Both are even')\n",
    "else:\n",
    "    print('Bosth are not even')\n"
   ]
  },
  {
   "cell_type": "markdown",
   "metadata": {
    "slideshow": {
     "slide_type": "slide"
    }
   },
   "source": [
    "## <font color = 'green'> String Formatting </font>\n",
    "\n",
    "Python supports embedding variable values within strings. We can specify a placeholder for variables using one of two styles\n",
    "* C style formatting \n",
    "```python\n",
    "name=\"Sharat\"\n",
    "print(\"Hello %s!\" % name)\n",
    "```\n",
    "* Python style formatting\n",
    "``` python\n",
    "name=\"Ani\"\n",
    "print(\"Hello {}!\".format(name))\n",
    "```\n",
    "* Python style formatting with named substitutions\n",
    "```python\n",
    "name=\"Sharat\"\n",
    "print(\"Hello {user_name}!\".format(user_name=name))\n",
    "```"
   ]
  },
  {
   "cell_type": "code",
   "execution_count": 67,
   "metadata": {},
   "outputs": [
    {
     "name": "stdout",
     "output_type": "stream",
     "text": [
      "Hello Sharat!\n"
     ]
    }
   ],
   "source": [
    "name=\"Sharat\"\n",
    "print(\"Hello %s!\" % name)"
   ]
  },
  {
   "cell_type": "code",
   "execution_count": 17,
   "metadata": {
    "slideshow": {
     "slide_type": "subslide"
    }
   },
   "outputs": [],
   "source": [
    "#more string formatting options\n",
    "name = 'derek'\n",
    "lastname = 'SMITH'\n",
    "name.upper()\n",
    "lastname.lower()\n",
    "name.capitalize()\n",
    "lastname.capitalize()"
   ]
  },
  {
   "cell_type": "markdown",
   "metadata": {
    "slideshow": {
     "slide_type": "slide"
    }
   },
   "source": [
    "### <font color = 'Purple'> Practice Questions</font>\n",
    "A) create two seprate variables to hold your first and last names.\n",
    "\n",
    "B) print a text that greets you by saying \"hello Firstname Lastname, how are you?\n"
   ]
  },
  {
   "cell_type": "code",
   "execution_count": 31,
   "metadata": {
    "slideshow": {
     "slide_type": "fragment"
    }
   },
   "outputs": [
    {
     "name": "stdout",
     "output_type": "stream",
     "text": [
      "Hello Roshni Vadiraja, how are you?\n"
     ]
    }
   ],
   "source": [
    "fname = 'Roshni'\n",
    "lname = 'Vadiraja'\n",
    "print('Hello {} {}, how are you?'.format(fname,lname))\n"
   ]
  },
  {
   "cell_type": "markdown",
   "metadata": {
    "slideshow": {
     "slide_type": "slide"
    }
   },
   "source": [
    "## <font color = 'green'> Conditional Evaluation </font>\n",
    "if, elif, else construct can be used to do conditional evaluation of code. \n",
    "\n",
    "```python\n",
    "if statement:\n",
    "    # execute if statement is true\n",
    "elif other_statement:\n",
    "    # execute other_statement\n",
    "    # this branch is optional\n",
    "else:\n",
    "    # execute if both statements are false\n",
    "    # this branch is optional\n",
    "```\n",
    "    \n",
    "* Note the **indentation**. Python uses indendation to separate code blocks\n",
    "* Note the trailing **':'**. Python uses : to indicate end of condition evaluation\n",
    "* Omitting either of these will lead to syntax error\n",
    "* **If** and **else** are the core of these statements. You can have many **elif**-s or have none."
   ]
  },
  {
   "cell_type": "code",
   "execution_count": 1,
   "metadata": {
    "slideshow": {
     "slide_type": "subslide"
    }
   },
   "outputs": [
    {
     "name": "stdout",
     "output_type": "stream",
     "text": [
      "number is odd\n"
     ]
    }
   ],
   "source": [
    "#if the number is devided by 2, what is the remainder\n",
    "number = 9\n",
    "if number % 2 == 0:\n",
    "    print(\"number is even\")\n",
    "else:\n",
    "    print(\"number is odd\")"
   ]
  },
  {
   "cell_type": "code",
   "execution_count": 54,
   "metadata": {
    "slideshow": {
     "slide_type": "subslide"
    }
   },
   "outputs": [
    {
     "name": "stdout",
     "output_type": "stream",
     "text": [
      "result is false\n"
     ]
    }
   ],
   "source": [
    "#if the variable is true\n",
    "result = False\n",
    "if result == True:\n",
    "    print(\"result is true\")\n",
    "elif result == False:\n",
    "    print(\"result is false\")\n",
    "else:\n",
    "    print(\"this cannot happen\")"
   ]
  },
  {
   "cell_type": "code",
   "execution_count": 91,
   "metadata": {
    "slideshow": {
     "slide_type": "subslide"
    }
   },
   "outputs": [
    {
     "name": "stdout",
     "output_type": "stream",
     "text": [
      "x is greater than y\n"
     ]
    }
   ],
   "source": [
    "x,y = 6,8\n",
    "if (x>y):\n",
    "    print('x is greater than y')\n",
    "elif (x==y):\n",
    "    print('x is equal y')\n",
    "else:\n",
    "    print('x is less than y')"
   ]
  },
  {
   "cell_type": "code",
   "execution_count": 92,
   "metadata": {
    "slideshow": {
     "slide_type": "subslide"
    }
   },
   "outputs": [
    {
     "name": "stdout",
     "output_type": "stream",
     "text": [
      "Condition not met, x is true\n"
     ]
    }
   ],
   "source": [
    "x = True\n",
    "if not x:\n",
    "    print('Condition met, x is not true')\n",
    "else:\n",
    "    print('Condition not met, x is true')"
   ]
  },
  {
   "cell_type": "markdown",
   "metadata": {
    "slideshow": {
     "slide_type": "slide"
    }
   },
   "source": [
    "### <font color = 'Purple'> Practice Questions</font>\n",
    "A) write any conditional statement that has if, else and 2 elif-s\n",
    "\n",
    "B) it can do anything you want it to do\n",
    "\n",
    "C) in the print statement use string formatting to call in the variable"
   ]
  },
  {
   "cell_type": "code",
   "execution_count": 32,
   "metadata": {
    "slideshow": {
     "slide_type": "fragment"
    }
   },
   "outputs": [
    {
     "name": "stdout",
     "output_type": "stream",
     "text": [
      "32 is less than 50\n"
     ]
    }
   ],
   "source": [
    "a=32\n",
    "if a<20:\n",
    "    print('{} is less than 20'.format(a))\n",
    "elif a<30:\n",
    "    print('{} is less than 30'.format(a))\n",
    "elif a<50:\n",
    "    print('{} is less than 50'.format(a))\n",
    "else:\n",
    "    print('{} is greater or equal to 50'.format(a))\n"
   ]
  },
  {
   "cell_type": "markdown",
   "metadata": {
    "slideshow": {
     "slide_type": "slide"
    }
   },
   "source": [
    "## <font color = 'green'> Loops </font>\n",
    "Python supports two looping constructs\n",
    "* **for** loops are used to iterating over a sequence (lists, strings, dictionaries, etc.)\n",
    "```python\n",
    "for var in list:\n",
    "    # you can exit using break (terminates iterations)\n",
    "    # you can loop again using continue (skips current iteration of loop)\n",
    "    # you can do something with var\n",
    "```\n",
    "\n",
    "* **while**\n",
    "```python\n",
    "while statement:\n",
    "    # you can do something while statement is true\n",
    "    # you can exit using break\n",
    "    # you can loop over using continue\n",
    "    # you can do something to possible change statement value\n",
    "```"
   ]
  },
  {
   "cell_type": "code",
   "execution_count": 2,
   "metadata": {
    "scrolled": true,
    "slideshow": {
     "slide_type": "subslide"
    }
   },
   "outputs": [
    {
     "name": "stdout",
     "output_type": "stream",
     "text": [
      "bear\n",
      "bunny\n",
      "beagle\n"
     ]
    }
   ],
   "source": [
    "#create a list of animals\n",
    "animals = ['bear', 'bunny', 'beagle']\n",
    "\n",
    "#create a for loop\n",
    "for i in animals:\n",
    "    print(i)"
   ]
  },
  {
   "cell_type": "code",
   "execution_count": 18,
   "metadata": {
    "slideshow": {
     "slide_type": "subslide"
    }
   },
   "outputs": [
    {
     "name": "stdout",
     "output_type": "stream",
     "text": [
      "8\n",
      "21\n",
      "5\n"
     ]
    }
   ],
   "source": [
    "# create a while loop\n",
    "lst = [8, 32, 21, 3, 5]\n",
    "i = 0\n",
    "while i < len(lst):\n",
    "    print(lst[i])\n",
    "    i = i + 2"
   ]
  },
  {
   "cell_type": "code",
   "execution_count": 12,
   "metadata": {
    "slideshow": {
     "slide_type": "subslide"
    }
   },
   "outputs": [
    {
     "name": "stdout",
     "output_type": "stream",
     "text": [
      "0\n",
      "1\n",
      "2\n",
      "See the difference?\n",
      "0\n",
      "1\n",
      "2\n",
      "How about now?\n",
      "3\n",
      "4\n"
     ]
    }
   ],
   "source": [
    "#if the condition is met, the break stops the rest of the iterations \n",
    "lst = [0, 1, 2, 3, 4]\n",
    "for item in lst:\n",
    "    # Skip anything above 2\n",
    "    if item > 2:\n",
    "        break\n",
    "    print(item)\n",
    "    \n",
    "print('See the difference?')    \n",
    "\n",
    "for item in lst:\n",
    "    # Skip anything above 2\n",
    "    if item < 3:\n",
    "        print(item)\n",
    "        \n",
    "print('How about now?')  \n",
    "\n",
    "for item in lst:\n",
    "    # Skip even numbers\n",
    "    if item > 2:\n",
    "        print(item)"
   ]
  },
  {
   "cell_type": "code",
   "execution_count": 80,
   "metadata": {
    "slideshow": {
     "slide_type": "subslide"
    }
   },
   "outputs": [
    {
     "name": "stdout",
     "output_type": "stream",
     "text": [
      "1\n",
      "3\n",
      "See the difference?\n",
      "1\n",
      "3\n",
      "How about now?\n",
      "0\n",
      "2\n",
      "4\n"
     ]
    }
   ],
   "source": [
    "#if the condition is met, the statement is executed and the rest of the loop is ignored \n",
    "lst = [0, 1, 2, 3, 4]\n",
    "for item in lst:\n",
    "    # Skip even numbers\n",
    "    if item % 2 == 0:\n",
    "        # Note the use of 'continue'\n",
    "        # This ignores the rest of the loop\n",
    "        continue\n",
    "    print(item)\n",
    "\n",
    "print('See the difference?')\n",
    "        \n",
    "for item in lst:\n",
    "    if item % 2 != 0:\n",
    "        print(item)\n",
    "        \n",
    "print('How about now?')\n",
    "\n",
    "for item in lst:\n",
    "    # Skip even numbers\n",
    "    if item % 2 == 0:\n",
    "        print(item)"
   ]
  },
  {
   "cell_type": "markdown",
   "metadata": {
    "slideshow": {
     "slide_type": "slide"
    }
   },
   "source": [
    "### <font color = 'Purple'> Practice Questions</font>\n",
    "\n",
    "A) Using a `while` loop, start with the number 1 and keep adding to it every sequential even number until the sum is no less than 2000. Print the finial sum."
   ]
  },
  {
   "cell_type": "code",
   "execution_count": 36,
   "metadata": {
    "slideshow": {
     "slide_type": "fragment"
    }
   },
   "outputs": [
    {
     "name": "stdout",
     "output_type": "stream",
     "text": [
      "2071\n"
     ]
    }
   ],
   "source": [
    "num =1\n",
    "itr = 2\n",
    "sum=num\n",
    "while True:\n",
    "    sum = sum+itr\n",
    "    itr +=2\n",
    "    if sum>=2000:\n",
    "        break\n",
    "print(sum)"
   ]
  },
  {
   "cell_type": "markdown",
   "metadata": {
    "slideshow": {
     "slide_type": "slide"
    }
   },
   "source": [
    "### <font color = 'Purple'> Practice Questins</font>\n",
    "A) Using a for loop, iterate over the list `list_x` defined below and print an `item` if its divisible by 2 and less than 6\n",
    "\n",
    "B) Using a `for` loop, iterate over the dictionary `dict_y` defined below and for each key-value pair in the dictionary, print a single line of the form: `The CEO of [company] is [name].` where `[company]` and `[name]` are the corresponding values from the dictionary."
   ]
  },
  {
   "cell_type": "code",
   "execution_count": 37,
   "metadata": {
    "slideshow": {
     "slide_type": "fragment"
    }
   },
   "outputs": [
    {
     "name": "stdout",
     "output_type": "stream",
     "text": [
      "2\n",
      "4\n",
      "The CEO of Microsoft is Satya Nadella\n",
      "The CEO of Amazon is Jeff Bezos\n",
      "The CEO of Apple is Tim Cook\n"
     ]
    }
   ],
   "source": [
    "list_x = [1, 2, 3, 4, 5, 6, 7, 8, 9, 10]\n",
    "dict_y = {\n",
    "    'Satya Nadella': 'Microsoft',\n",
    "    'Jeff Bezos': 'Amazon',\n",
    "    'Tim Cook': 'Apple'\n",
    "}\n",
    "for item in list_x:\n",
    "    if item%2==0 and item<6:\n",
    "        print(item)\n",
    "\n",
    "for key,value in dict_y.items():\n",
    "    print('The CEO of {} is {}'.format(value,key))"
   ]
  },
  {
   "cell_type": "markdown",
   "metadata": {
    "slideshow": {
     "slide_type": "slide"
    }
   },
   "source": [
    "## <font color = 'green'> Functions & Methods </font>\n",
    "\n",
    "You can either create your own functions or you can use already existing functions (or both). \n",
    "\n",
    "Functions can be used to split the program logic into smaller reusable components. Functions are paramterized by their `name` and `parameters`\n",
    "\n",
    "`Arguments` are the things you supply to the function when you call it but `parameters` are the names you use when you define a function\n",
    "\n",
    "```python\n",
    "def foo(bar):\n",
    "    print(\"bar value:{}\".format(bar))\n",
    "\n",
    "foo(\"hello\")\n",
    "foo(\"world\")\n",
    "```"
   ]
  },
  {
   "cell_type": "code",
   "execution_count": 38,
   "metadata": {
    "slideshow": {
     "slide_type": "subslide"
    }
   },
   "outputs": [
    {
     "data": {
      "text/plain": [
       "(12, 8, 20, 5.0)"
      ]
     },
     "execution_count": 38,
     "metadata": {},
     "output_type": "execute_result"
    }
   ],
   "source": [
    "#UDF = user defined functions\n",
    "def multiplyByTwo(x):\n",
    "    return x*2\n",
    "\n",
    "multiplyByTwo(9)\n",
    "\n",
    "#return as a tuple\n",
    "def manymath(x,y):\n",
    "    return (x+y, x-y, x*y, x/y)\n",
    "\n",
    "manymath(10, 2)"
   ]
  },
  {
   "cell_type": "code",
   "execution_count": 21,
   "metadata": {
    "slideshow": {
     "slide_type": "subslide"
    }
   },
   "outputs": [
    {
     "name": "stdout",
     "output_type": "stream",
     "text": [
      "Initial height was 170 centimeters.\n",
      "Converted height is 67 inches.\n"
     ]
    }
   ],
   "source": [
    "#global vs. local variables\n",
    "height = 170\n",
    "def converter(k):\n",
    "    height_in = k/2.54\n",
    "    return height_in\n",
    "\n",
    "\n",
    "print(\"Initial height was %s centimeters.\" %height)\n",
    "#print(\"Converted height is %s inches.\" %height_in)\n",
    "print(\"Converted height is %s inches.\" %(round(converter(height))))"
   ]
  },
  {
   "cell_type": "code",
   "execution_count": 164,
   "metadata": {
    "slideshow": {
     "slide_type": "slide"
    }
   },
   "outputs": [
    {
     "data": {
      "text/plain": [
       "10"
      ]
     },
     "execution_count": 164,
     "metadata": {},
     "output_type": "execute_result"
    },
    {
     "data": {
      "text/plain": [
       "10"
      ]
     },
     "execution_count": 164,
     "metadata": {},
     "output_type": "execute_result"
    }
   ],
   "source": [
    "#lambda functions = an unonymous fucntion to use it once and move on instead of storing\n",
    "#instead of declaring with def, we use lambda\n",
    "#x is the parameter, and 5 is the argument we supplied, double holds the function, x&2 is the expression\n",
    "double = lambda x: x*2\n",
    "double(5)\n",
    "\n",
    "def double(x):\n",
    "    return x*2\n",
    "\n",
    "double(5)"
   ]
  },
  {
   "cell_type": "code",
   "execution_count": 166,
   "metadata": {
    "slideshow": {
     "slide_type": "subslide"
    }
   },
   "outputs": [
    {
     "data": {
      "text/plain": [
       "21"
      ]
     },
     "execution_count": 166,
     "metadata": {},
     "output_type": "execute_result"
    }
   ],
   "source": [
    "sum = lambda x, y: x + y\n",
    "sum(10, 11)"
   ]
  },
  {
   "cell_type": "code",
   "execution_count": 171,
   "metadata": {
    "slideshow": {
     "slide_type": "subslide"
    }
   },
   "outputs": [
    {
     "data": {
      "text/plain": [
       "[6, 7, 8, 9, 10]"
      ]
     },
     "execution_count": 171,
     "metadata": {},
     "output_type": "execute_result"
    }
   ],
   "source": [
    "#lambda function with filter\n",
    "#filers the original / given list with the lambda function and shows only filtered numbers in a new list\n",
    "my_list = [1,2,3,4,5,6,7,8,9,10]\n",
    "filtered_list = list(filter(lambda x: (x*2 > 10), my_list))\n",
    "filtered_list\n",
    "\n",
    "filter?"
   ]
  },
  {
   "cell_type": "code",
   "execution_count": 175,
   "metadata": {
    "slideshow": {
     "slide_type": "subslide"
    }
   },
   "outputs": [
    {
     "data": {
      "text/plain": [
       "[2, 4, 6, 8, 10, 12, 14, 16, 18, 20]"
      ]
     },
     "execution_count": 175,
     "metadata": {},
     "output_type": "execute_result"
    }
   ],
   "source": [
    "#lambda function with map\n",
    "#map applies lambda function to all items in the original / given list and returns the results in a new list\n",
    "my_list = [1,2,3,4,5,6,7,8,9,10]\n",
    "mapped_list = list(map(lambda x: x*2, my_list))\n",
    "mapped_list\n",
    "\n",
    "#map?"
   ]
  },
  {
   "cell_type": "code",
   "execution_count": 179,
   "metadata": {
    "slideshow": {
     "slide_type": "subslide"
    }
   },
   "outputs": [
    {
     "data": {
      "text/plain": [
       "55"
      ]
     },
     "execution_count": 179,
     "metadata": {},
     "output_type": "execute_result"
    }
   ],
   "source": [
    "#lambda function with reduce\n",
    "#reduces the list into a single number by applying the lambda function to the items cumulatively\n",
    "my_list = [1,2,3,4,5,6,7,8,9,10]\n",
    "reduced_list = reduce(lambda x, y: x+y, my_list)\n",
    "reduced_list\n",
    "\n",
    "#reduce?"
   ]
  },
  {
   "cell_type": "code",
   "execution_count": 28,
   "metadata": {
    "slideshow": {
     "slide_type": "subslide"
    }
   },
   "outputs": [
    {
     "data": {
      "text/plain": [
       "['Boston', 'NYC', 'SLC', 'Toronto', 'atlanta', 'los Angeles']"
      ]
     },
     "execution_count": 28,
     "metadata": {},
     "output_type": "execute_result"
    },
    {
     "data": {
      "text/plain": [
       "['SLC', 'NYC', 'atlanta', 'Boston', 'Toronto', 'los Angeles']"
      ]
     },
     "execution_count": 28,
     "metadata": {},
     "output_type": "execute_result"
    },
    {
     "data": {
      "text/plain": [
       "['los Angeles', 'Toronto', 'Boston', 'atlanta', 'NYC', 'SLC']"
      ]
     },
     "execution_count": 28,
     "metadata": {},
     "output_type": "execute_result"
    }
   ],
   "source": [
    "#lambda function with sorted\n",
    "cities = ['Boston', 'NYC', 'atlanta', 'SLC', 'los Angeles', 'Toronto']\n",
    "numbers = [1, 67, 5, 90, 94]\n",
    "#sort the list from start to end with descending order accordnig to ascii table\n",
    "#checks the first letter against ASCII\n",
    "sorted_list = sorted(cities, key = lambda x : x[::1])\n",
    "sorted_list\n",
    "#checks the last letter against ASCII\n",
    "sorted_list = sorted(cities, key = lambda x : x[::-1])\n",
    "sorted_list\n",
    "sorted_list = sorted(cities, key = lambda x : x[::-1], reverse=True)\n",
    "sorted_list\n",
    "##sort the list from start to end with asc order accordnig to ascii table\n",
    "#sorted_lista = sorted(cities, key = lambda x : x[::1])\n",
    "#sorted_lista\n",
    "\n",
    "#sorted?"
   ]
  },
  {
   "cell_type": "markdown",
   "metadata": {
    "slideshow": {
     "slide_type": "slide"
    }
   },
   "source": [
    "### <font color = 'Purple'> Practice Questions</font>\n",
    "\n",
    "A) write a `lambda function` to `filter` on cities with names longer than 4 characters.\n",
    "\n",
    "B) wriite a `lambda function` to `map` whether each element in ciities list is above 4 characters in length.\n"
   ]
  },
  {
   "cell_type": "code",
   "execution_count": 40,
   "metadata": {
    "slideshow": {
     "slide_type": "fragment"
    }
   },
   "outputs": [
    {
     "name": "stdout",
     "output_type": "stream",
     "text": [
      "['Boston', 'atlanta', 'los Angeles']\n",
      "[True, False, True, False, True]\n"
     ]
    }
   ],
   "source": [
    "#use this liist\n",
    "cities = ['Boston', 'NYC', 'atlanta', 'SLC', 'los Angeles']\n",
    "lst = list(filter(lambda x : (len(x)>4), cities))\n",
    "print(lst)\n",
    "lst1 = list(map(lambda x : (len(x)>4), cities))\n",
    "print(lst1)"
   ]
  },
  {
   "cell_type": "markdown",
   "metadata": {
    "slideshow": {
     "slide_type": "slide"
    }
   },
   "source": [
    "### <font color = 'Purple'> Practice Questions</font>\n",
    "Provided below are `functions` that are completely defined (`add_numbers`), partially defined (`sub_numbers`) and not defined (`mult_numbers`):\n",
    "\n",
    "A) Complete `sub_numbers` so that it return `difference` of two numbers and call the function\n",
    "\n",
    "B) Write a function called `mult_numbers` to multiply two numbers and call the function using the previous two function calls as your two arguments where `add_numbers(5,4)` and `sub_numbers(5,4)`. The result should be 9."
   ]
  },
  {
   "cell_type": "code",
   "execution_count": 42,
   "metadata": {
    "slideshow": {
     "slide_type": "subslide"
    }
   },
   "outputs": [
    {
     "name": "stdout",
     "output_type": "stream",
     "text": [
      "9\n",
      "1\n",
      "9\n"
     ]
    }
   ],
   "source": [
    "def add_numbers(a, b):\n",
    "    result = a + b\n",
    "    return result\n",
    "\n",
    "add = add_numbers(5,4)\n",
    "print(add)\n",
    "\n",
    "def sub_numbers(a, b):\n",
    "    result = a-b\n",
    "    return result\n",
    "\n",
    "sub = sub_numbers(5,4)\n",
    "print(sub)\n",
    "\n",
    "def mult_numbers(a,b):\n",
    "    result = a*b\n",
    "    return(result)\n",
    "\n",
    "print(mult_numbers(add,sub))"
   ]
  },
  {
   "cell_type": "markdown",
   "metadata": {
    "slideshow": {
     "slide_type": "slide"
    }
   },
   "source": [
    "### <font color = 'Purple'> practice Questions</font>\n",
    "Write a `function` that takes a name and returns `\"Your name is <given_name>\"`. Example: `print_name(\"Josephine\")` should return `\"Your name is Josephine\"`."
   ]
  },
  {
   "cell_type": "code",
   "execution_count": 45,
   "metadata": {
    "slideshow": {
     "slide_type": "fragment"
    }
   },
   "outputs": [
    {
     "name": "stdout",
     "output_type": "stream",
     "text": [
      "your name is Roshni\n"
     ]
    }
   ],
   "source": [
    "def printYourName(name):\n",
    "    print('your name is {}'.format(name))\n",
    "printYourName('Roshni')\n"
   ]
  },
  {
   "cell_type": "markdown",
   "metadata": {
    "slideshow": {
     "slide_type": "slide"
    }
   },
   "source": [
    "### <font color = 'Purple'> Practive Questions</font>\n",
    "Define a function called `distance_converter` that takes as an argument a distance in `kilometers` and prints the distance converted to `miles` using the following sentence: `Original distance in kilometers is [..], which equals [..] miles.`"
   ]
  },
  {
   "cell_type": "code",
   "execution_count": 46,
   "metadata": {
    "slideshow": {
     "slide_type": "fragment"
    }
   },
   "outputs": [
    {
     "name": "stdout",
     "output_type": "stream",
     "text": [
      "Original distance in kilometers is 6, which eaquals 9.600000000000001 miles\n"
     ]
    }
   ],
   "source": [
    "def distance_converter(kms):\n",
    "    mile = kms*1.6\n",
    "    print('Original distance in kilometers is {}, which eaquals {} miles'.format(kms,mile))\n",
    "distance_converter(6)\n",
    "    \n"
   ]
  },
  {
   "cell_type": "markdown",
   "metadata": {
    "slideshow": {
     "slide_type": "slide"
    }
   },
   "source": [
    "### <font color = 'Purple'> Practice Questions</font>\n",
    "Write a function called `show_info` that takes a `name`, a `city`, and a `state` (a total of 3 arguments all lower case, e.g. ani, boston, massachusetts) and returns a full sentence string with the following content and format: \"Your name is `[Name]` and you live in `[City]`, `[ST]`. Please make sure that you follow the format of the sentence exactly as defined and that you properly capitalize and format the two letter abbreviation of the home state."
   ]
  },
  {
   "cell_type": "code",
   "execution_count": 47,
   "metadata": {
    "slideshow": {
     "slide_type": "fragment"
    }
   },
   "outputs": [
    {
     "name": "stdout",
     "output_type": "stream",
     "text": [
      "your name is Roshni and you live in Boston,MA\n"
     ]
    }
   ],
   "source": [
    "def show_info(name,city,state):\n",
    "    print('your name is {} and you live in {},{}'.format(name,city,state))\n",
    "show_info('Roshni','Boston','MA')"
   ]
  },
  {
   "cell_type": "markdown",
   "metadata": {
    "slideshow": {
     "slide_type": "slide"
    }
   },
   "source": [
    "### Methods\n",
    "While methods are similar to `functions`, methods are associated only with objects and classes they are implicitly called for. \n",
    "Some, return something about the object, some take no arguments and return nothiing, just do an action."
   ]
  },
  {
   "cell_type": "code",
   "execution_count": 101,
   "metadata": {
    "collapsed": true,
    "slideshow": {
     "slide_type": "subslide"
    }
   },
   "outputs": [
    {
     "data": {
      "text/plain": [
       "7"
      ]
     },
     "execution_count": 101,
     "metadata": {},
     "output_type": "execute_result"
    },
    {
     "data": {
      "text/plain": [
       "list"
      ]
     },
     "execution_count": 101,
     "metadata": {},
     "output_type": "execute_result"
    },
    {
     "data": {
      "text/plain": [
       "['Boston', 'NYC', 'atlanta']"
      ]
     },
     "execution_count": 101,
     "metadata": {},
     "output_type": "execute_result"
    },
    {
     "data": {
      "text/plain": [
       "['atlanta', 'NYC', 'Boston']"
      ]
     },
     "execution_count": 101,
     "metadata": {},
     "output_type": "execute_result"
    },
    {
     "data": {
      "text/plain": [
       "['atlanta', 'Boston', 'NYC']"
      ]
     },
     "execution_count": 101,
     "metadata": {},
     "output_type": "execute_result"
    },
    {
     "data": {
      "text/plain": [
       "\"['atlanta', 'NYC', 'Boston']\""
      ]
     },
     "execution_count": 101,
     "metadata": {},
     "output_type": "execute_result"
    },
    {
     "data": {
      "text/plain": [
       "['t',\n",
       " 'o',\n",
       " 'd',\n",
       " 'a',\n",
       " 'y',\n",
       " ' ',\n",
       " 'w',\n",
       " 'e',\n",
       " ' ',\n",
       " 'a',\n",
       " 'r',\n",
       " 'e',\n",
       " ' ',\n",
       " 't',\n",
       " 'r',\n",
       " 'y',\n",
       " 'i',\n",
       " 'n',\n",
       " 'g']"
      ]
     },
     "execution_count": 101,
     "metadata": {},
     "output_type": "execute_result"
    },
    {
     "data": {
      "text/plain": [
       "835"
      ]
     },
     "execution_count": 101,
     "metadata": {},
     "output_type": "execute_result"
    },
    {
     "data": {
      "text/plain": [
       "0"
      ]
     },
     "execution_count": 101,
     "metadata": {},
     "output_type": "execute_result"
    },
    {
     "data": {
      "text/plain": [
       "932"
      ]
     },
     "execution_count": 101,
     "metadata": {},
     "output_type": "execute_result"
    },
    {
     "data": {
      "text/plain": [
       "slice(None, [10, 3, 14, 67, 835, 3, 0], None)"
      ]
     },
     "execution_count": 101,
     "metadata": {},
     "output_type": "execute_result"
    }
   ],
   "source": [
    "x = [10, 3, 14, 67, 835, 3, 0]\n",
    "#dir(x)\n",
    "len(x)\n",
    "type(x)\n",
    "\n",
    "cities = ['Boston', 'NYC', 'atlanta']\n",
    "sorted(cities) #sorts by ASCI value\n",
    "sorted(cities, reverse=True)\n",
    "sorted(cities, key=str.lower)\n",
    "\n",
    "cities.reverse()\n",
    "\n",
    "ascii(cities)\n",
    "\n",
    "words = \"today we are trying\"\n",
    "list(words)\n",
    "\n",
    "max(x)\n",
    "min(x)\n",
    "sum(x)\n"
   ]
  },
  {
   "cell_type": "code",
   "execution_count": 124,
   "metadata": {
    "slideshow": {
     "slide_type": "subslide"
    }
   },
   "outputs": [
    {
     "name": "stdout",
     "output_type": "stream",
     "text": [
      "('a', 'b', 'c')\n",
      "('d', 'e')\n",
      "('a', 'c', 'e')\n"
     ]
    }
   ],
   "source": [
    "#Slice\n",
    "a = (\"a\", \"b\", \"c\", \"d\", \"e\", \"f\", \"g\", \"h\")\n",
    "x = slice(3)\n",
    "print(a[x])\n",
    "\n",
    "#or the followiin\n",
    "#a[slice(3)]\n",
    "\n",
    "y = slice(3,5)\n",
    "print(a[y])\n",
    "\n",
    "\n",
    "z = slice(0,5,2)\n",
    "print(a[z])"
   ]
  },
  {
   "cell_type": "code",
   "execution_count": 32,
   "metadata": {
    "slideshow": {
     "slide_type": "subslide"
    }
   },
   "outputs": [
    {
     "name": "stdout",
     "output_type": "stream",
     "text": [
      "range(1, 10, 2)\n",
      "1\n",
      "3\n",
      "5\n",
      "7\n",
      "9\n",
      "range(0, 3)\n",
      "0\n",
      "1\n",
      "2\n"
     ]
    }
   ],
   "source": [
    "#Range\n",
    "#start at, stop before, increment/step = difference between each number in seq.\n",
    "a = range(1,10,2)\n",
    "print(a)\n",
    "for i in a:\n",
    "    print(i)\n",
    "\n",
    "#default is stop\n",
    "b = range(3)\n",
    "print(b)\n",
    "for i in b:\n",
    "    print(i)"
   ]
  },
  {
   "cell_type": "markdown",
   "metadata": {
    "slideshow": {
     "slide_type": "slide"
    }
   },
   "source": [
    "### <font color = 'Purple'> Practice Questions</font>\n",
    "\n",
    "\n",
    "A) create a random string\n",
    "\n",
    "B) loop through the string"
   ]
  },
  {
   "cell_type": "code",
   "execution_count": 48,
   "metadata": {
    "slideshow": {
     "slide_type": "fragment"
    }
   },
   "outputs": [
    {
     "name": "stdout",
     "output_type": "stream",
     "text": [
      "R\n",
      "o\n",
      "s\n",
      "h\n",
      "n\n",
      "i\n"
     ]
    }
   ],
   "source": [
    "name = 'Roshni'\n",
    "\n",
    "for letter in name:\n",
    "    print(letter)\n"
   ]
  },
  {
   "cell_type": "markdown",
   "metadata": {
    "slideshow": {
     "slide_type": "slide"
    }
   },
   "source": [
    "### <font color = 'Purple'> Practice Questions</font>\n",
    "\n",
    "Use an appropriate python method to:\n",
    "\n",
    "A) round the result of 4588/45\n",
    "\n",
    "B) write a `random list` of non sequential numbers and find the `smallest number`, then `sort` that list\n",
    "\n",
    "C) `create a variable` that contains this string: \"Welcome to your Python course in second half of Fall 2019\". Find the `number of characters` in it including whiite spaces and print the `variable's type`.\n",
    "\n",
    "D) replace `e` with `!` in string `\"Anie\"`\n",
    "\n",
    "E) `write` a sentence and then `split` the sentence on white space and `create` as many elements as the sentence had: \"Hello world\" will become [\"Hello\", \"wold].\n",
    "\n",
    "F) `add` your name to this list: my_list = ['Ani']\n"
   ]
  },
  {
   "cell_type": "code",
   "execution_count": 55,
   "metadata": {
    "slideshow": {
     "slide_type": "fragment"
    }
   },
   "outputs": [
    {
     "name": "stdout",
     "output_type": "stream",
     "text": [
      "102\n",
      "[1, 2, 4, 5, 6, 7, 8]\n",
      "Smallest element is: 1\n",
      "number of charecters in variable: 57\n",
      "Variable type: <class 'str'>\n",
      "Ani!\n",
      "['Ani', 'Roshni']\n"
     ]
    }
   ],
   "source": [
    "print(round(4588/45))\n",
    "lst = [5,2,1,6,8,4,7]\n",
    "print(sorted(lst))\n",
    "print(\"Smallest element is:\", min(lst))\n",
    "st = \"Welcome to your Python course in second half of Fall 2019\"\n",
    "print('number of charecters in variable:', len(st))\n",
    "print('Variable type:', type(st))\n",
    "s = 'Anie'\n",
    "s = s.replace('e','!')\n",
    "print(s)\n",
    "g = 'Hello world'\n",
    "g.split()\n",
    "my_list = ['Ani']\n",
    "my_list.append('Roshni')\n",
    "print(my_list)"
   ]
  },
  {
   "cell_type": "markdown",
   "metadata": {},
   "source": [
    "## <font color = 'green'> List Comprehensions </font>\n",
    "\n",
    "List comprehensions provide a concise way to `create lists`. The `expression` comes first right after the `square brackets`, then the `for` or `if` clauses, then the `condition or none`.\n",
    "\n",
    "The result will be a new list resulting from evaluating the expression in the context of the `for` or `if` clauses which follow it. "
   ]
  },
  {
   "cell_type": "code",
   "execution_count": 33,
   "metadata": {},
   "outputs": [
    {
     "data": {
      "text/plain": [
       "[2, 6, 10, 16]"
      ]
     },
     "execution_count": 33,
     "metadata": {},
     "output_type": "execute_result"
    }
   ],
   "source": [
    "#define a list\n",
    "numbers = [1, 3, 5, 8]\n",
    "\n",
    "#list comprehension\n",
    "[n * 2 for n in numbers]\n",
    "\n",
    "#above 1 line list comprehension does the same as below 3 lines\n",
    "\n",
    "a = []\n",
    "for n in numbers:\n",
    "    a.append(n*2)"
   ]
  },
  {
   "cell_type": "code",
   "execution_count": 3,
   "metadata": {},
   "outputs": [
    {
     "name": "stdout",
     "output_type": "stream",
     "text": [
      "[3, 5, 8]\n"
     ]
    }
   ],
   "source": [
    "#combination of two functions\n",
    "[n for n in numbers if n>=3]\n",
    "\n",
    "#above 1 line list comprehension does the same as below 5 lines\n",
    "list=[]\n",
    "for n in numbers:\n",
    "    if n>=3:\n",
    "        list.append(n)\n",
    "print(list)"
   ]
  },
  {
   "cell_type": "code",
   "execution_count": 4,
   "metadata": {},
   "outputs": [
    {
     "name": "stdout",
     "output_type": "stream",
     "text": [
      "6\n",
      "10\n",
      "16\n"
     ]
    }
   ],
   "source": [
    "#lazy evaluation: a list comprehension as a variable\n",
    "j = [n*2 for n in numbers if n>=3]\n",
    "j\n",
    "print(j)\n",
    "\n",
    "#list comprehension inside a loop to take it out of a list into init-s\n",
    "for e in j:\n",
    "    print(e)"
   ]
  },
  {
   "cell_type": "markdown",
   "metadata": {},
   "source": [
    "### <font color = 'Purple'> Practice Questions</font>\n",
    "\n",
    "Convert below for loop into a list comprehension."
   ]
  },
  {
   "cell_type": "code",
   "execution_count": 57,
   "metadata": {},
   "outputs": [
    {
     "name": "stdout",
     "output_type": "stream",
     "text": [
      "[0, 1, 4, 9, 16, 25, 36, 49, 64, 81]\n"
     ]
    },
    {
     "data": {
      "text/plain": [
       "[0, 1, 4, 9, 16, 25, 36, 49, 64, 81]"
      ]
     },
     "execution_count": 57,
     "metadata": {},
     "output_type": "execute_result"
    }
   ],
   "source": [
    "squares = []\n",
    "for x in range(10):\n",
    "    squares.append(x**2)\n",
    "print(squares)\n",
    "\n",
    "[x**2 for x in range(10)]"
   ]
  },
  {
   "cell_type": "markdown",
   "metadata": {
    "slideshow": {
     "slide_type": "slide"
    }
   },
   "source": [
    "### End of Notebook"
   ]
  },
  {
   "cell_type": "code",
   "execution_count": 23,
   "metadata": {
    "slideshow": {
     "slide_type": "skip"
    }
   },
   "outputs": [],
   "source": [
    "#to output the entire results without having to type print\n",
    "from IPython.core.interactiveshell import InteractiveShell\n",
    "InteractiveShell.ast_node_interactivity = \"all\""
   ]
  },
  {
   "cell_type": "code",
   "execution_count": 24,
   "metadata": {
    "slideshow": {
     "slide_type": "skip"
    }
   },
   "outputs": [
    {
     "data": {
      "text/plain": [
       "{'width': 1024, 'height': 768, 'scroll': True}"
      ]
     },
     "execution_count": 24,
     "metadata": {},
     "output_type": "execute_result"
    }
   ],
   "source": [
    "from notebook.services.config import ConfigManager\n",
    "cm = ConfigManager()\n",
    "cm.update('livereveal', {\n",
    "        'width': 1024,\n",
    "        'height': 768,\n",
    "        'scroll': True,\n",
    "})"
   ]
  },
  {
   "cell_type": "code",
   "execution_count": null,
   "metadata": {},
   "outputs": [],
   "source": []
  }
 ],
 "metadata": {
  "celltoolbar": "Slideshow",
  "kernelspec": {
   "display_name": "Python 3",
   "language": "python",
   "name": "python3"
  },
  "language_info": {
   "codemirror_mode": {
    "name": "ipython",
    "version": 3
   },
   "file_extension": ".py",
   "mimetype": "text/x-python",
   "name": "python",
   "nbconvert_exporter": "python",
   "pygments_lexer": "ipython3",
   "version": "3.7.4"
  }
 },
 "nbformat": 4,
 "nbformat_minor": 2
}
